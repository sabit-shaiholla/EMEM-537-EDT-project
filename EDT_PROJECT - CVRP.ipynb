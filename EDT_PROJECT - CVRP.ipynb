{
 "cells": [
  {
   "cell_type": "code",
   "execution_count": 158,
   "metadata": {},
   "outputs": [],
   "source": [
    "import numpy as np\n",
    "import pandas as pd\n",
    "import pulp\n",
    "import itertools\n",
    "import gmaps\n",
    "import googlemaps"
   ]
  },
  {
   "cell_type": "code",
   "execution_count": 159,
   "metadata": {},
   "outputs": [],
   "source": [
    "API_KEY = 'ENTER_YOUR_API'\n",
    "gmaps.configure(api_key=API_KEY)\n",
    "googlemaps = googlemaps.Client(key=API_KEY)"
   ]
  },
  {
   "cell_type": "code",
   "execution_count": 160,
   "metadata": {},
   "outputs": [
    {
     "name": "stdin",
     "output_type": "stream",
     "text": [
      "Enter number of customers:  10\n",
      "Enter number of vehicles:  4\n",
      "Enter the latitude of the Depot:  43.34622573712328\n",
      "Enter the longitude of the Depot:  76.97812881726297\n"
     ]
    }
   ],
   "source": [
    "# customer count ('0' is depot)\n",
    "customer_count = int(input('Enter number of customers: '))\n",
    "\n",
    "# the number of vehicle\n",
    "vehicle_count = int(input('Enter number of vehicles: '))\n",
    "\n",
    "# the capacity of vehicle\n",
    "vehicle_capacity = 50\n",
    "\n",
    "# fix random seed\n",
    "np.random.seed(seed=7)\n",
    "\n",
    "# set depot latitude and longitude\n",
    "# 43.34622573712328, 76.97812881726297\n",
    "depot_latitude = float(input('Enter the latitude of the Depot: ')) \n",
    "depot_longitude = float(input('Enter the longitude of the Depot: ')) "
   ]
  },
  {
   "cell_type": "code",
   "execution_count": 161,
   "metadata": {},
   "outputs": [
    {
     "data": {
      "text/html": [
       "<div>\n",
       "<style scoped>\n",
       "    .dataframe tbody tr th:only-of-type {\n",
       "        vertical-align: middle;\n",
       "    }\n",
       "\n",
       "    .dataframe tbody tr th {\n",
       "        vertical-align: top;\n",
       "    }\n",
       "\n",
       "    .dataframe thead th {\n",
       "        text-align: right;\n",
       "    }\n",
       "</style>\n",
       "<table border=\"1\" class=\"dataframe\">\n",
       "  <thead>\n",
       "    <tr style=\"text-align: right;\">\n",
       "      <th></th>\n",
       "      <th>latitude</th>\n",
       "      <th>longitude</th>\n",
       "      <th>demand</th>\n",
       "    </tr>\n",
       "  </thead>\n",
       "  <tbody>\n",
       "    <tr>\n",
       "      <th>0</th>\n",
       "      <td>43.346226</td>\n",
       "      <td>76.978129</td>\n",
       "      <td>0</td>\n",
       "    </tr>\n",
       "    <tr>\n",
       "      <th>1</th>\n",
       "      <td>43.313610</td>\n",
       "      <td>76.966120</td>\n",
       "      <td>19</td>\n",
       "    </tr>\n",
       "    <tr>\n",
       "      <th>2</th>\n",
       "      <td>43.348523</td>\n",
       "      <td>77.013500</td>\n",
       "      <td>17</td>\n",
       "    </tr>\n",
       "    <tr>\n",
       "      <th>3</th>\n",
       "      <td>43.374752</td>\n",
       "      <td>76.959834</td>\n",
       "      <td>13</td>\n",
       "    </tr>\n",
       "    <tr>\n",
       "      <th>4</th>\n",
       "      <td>43.291001</td>\n",
       "      <td>76.961136</td>\n",
       "      <td>13</td>\n",
       "    </tr>\n",
       "    <tr>\n",
       "      <th>5</th>\n",
       "      <td>43.346370</td>\n",
       "      <td>76.876402</td>\n",
       "      <td>18</td>\n",
       "    </tr>\n",
       "    <tr>\n",
       "      <th>6</th>\n",
       "      <td>43.346163</td>\n",
       "      <td>77.016949</td>\n",
       "      <td>13</td>\n",
       "    </tr>\n",
       "    <tr>\n",
       "      <th>7</th>\n",
       "      <td>43.223395</td>\n",
       "      <td>76.986800</td>\n",
       "      <td>10</td>\n",
       "    </tr>\n",
       "    <tr>\n",
       "      <th>8</th>\n",
       "      <td>43.417462</td>\n",
       "      <td>76.997341</td>\n",
       "      <td>11</td>\n",
       "    </tr>\n",
       "    <tr>\n",
       "      <th>9</th>\n",
       "      <td>43.388261</td>\n",
       "      <td>76.871272</td>\n",
       "      <td>10</td>\n",
       "    </tr>\n",
       "  </tbody>\n",
       "</table>\n",
       "</div>"
      ],
      "text/plain": [
       "    latitude  longitude  demand\n",
       "0  43.346226  76.978129       0\n",
       "1  43.313610  76.966120      19\n",
       "2  43.348523  77.013500      17\n",
       "3  43.374752  76.959834      13\n",
       "4  43.291001  76.961136      13\n",
       "5  43.346370  76.876402      18\n",
       "6  43.346163  77.016949      13\n",
       "7  43.223395  76.986800      10\n",
       "8  43.417462  76.997341      11\n",
       "9  43.388261  76.871272      10"
      ]
     },
     "execution_count": 161,
     "metadata": {},
     "output_type": "execute_result"
    }
   ],
   "source": [
    "# make dataframe which contains vending machine location and demand\n",
    "sigma = 0.25\n",
    "df = pd.DataFrame({\"latitude\":np.random.normal(depot_latitude, sigma, customer_count),\n",
    "                   \"longitude\":np.random.normal(depot_longitude, sigma, customer_count),\n",
    "                   \"demand\":np.random.randint(10, 20, customer_count)})\n",
    "\n",
    "# set the depot as the center and make demand 0 ('0' = depot)\n",
    "df.iloc[0,0] = depot_latitude\n",
    "df.iloc[0,1] = depot_longitude\n",
    "df.iloc[0,2] = 0\n",
    "df"
   ]
  },
  {
   "cell_type": "code",
   "execution_count": 162,
   "metadata": {},
   "outputs": [],
   "source": [
    "# function for calculating distance between two pins\n",
    "def _distance_calculator(_df):\n",
    "\n",
    "    _distance_result = np.zeros((len(_df),len(_df)))\n",
    "    _df['latitude-longitude'] = '0'\n",
    "    for i in range(len(_df)):\n",
    "        _df['latitude-longitude'].iloc[i] = str(_df.latitude[i]) + ',' + str(_df.longitude[i])\n",
    "\n",
    "    for i in range(len(_df)):\n",
    "        for j in range(len(_df)):\n",
    "\n",
    "            # calculate distance of all pairs\n",
    "            _google_maps_api_result = googlemaps.directions(_df['latitude-longitude'].iloc[i],\n",
    "                                                            _df['latitude-longitude'].iloc[j],\n",
    "                                                            mode = 'driving')\n",
    "            # append distance to result list\n",
    "            _distance_result[i][j] = _google_maps_api_result[0]['legs'][0]['distance']['value']\n",
    "\n",
    "    return _distance_result"
   ]
  },
  {
   "cell_type": "code",
   "execution_count": 163,
   "metadata": {},
   "outputs": [
    {
     "name": "stderr",
     "output_type": "stream",
     "text": [
      "/Users/apple/opt/anaconda3/lib/python3.7/site-packages/pandas/core/indexing.py:670: SettingWithCopyWarning: \n",
      "A value is trying to be set on a copy of a slice from a DataFrame\n",
      "\n",
      "See the caveats in the documentation: https://pandas.pydata.org/pandas-docs/stable/user_guide/indexing.html#returning-a-view-versus-a-copy\n",
      "  iloc._setitem_with_indexer(indexer, value)\n"
     ]
    }
   ],
   "source": [
    "df_copy = df.copy()\n",
    "distance = _distance_calculator(df_copy)"
   ]
  },
  {
   "cell_type": "code",
   "execution_count": 164,
   "metadata": {},
   "outputs": [
    {
     "name": "stdout",
     "output_type": "stream",
     "text": [
      "Vehicle Requirements: 3\n",
      "Moving Distance: 125943.0\n"
     ]
    }
   ],
   "source": [
    "# solve with pulp\n",
    "for vehicle_count in range(1,vehicle_count+1):\n",
    "\n",
    "    # definition of LpProblem instance\n",
    "    problem = pulp.LpProblem(\"CVRP\", pulp.LpMinimize)\n",
    "\n",
    "    # definition of variables which are 0/1\n",
    "    x = [[[pulp.LpVariable(\"x%s_%s,%s\"%(i,j,k), cat=\"Binary\") if i != j else None for k in range(vehicle_count)]for j in range(customer_count)] for i in range(customer_count)]\n",
    "\n",
    "    # add objective function\n",
    "    # minimize the travel cost (sum of traveling distance) of all vehicles\n",
    "    problem += pulp.lpSum(distance[i][j] * x[i][j][k] if i != j else 0\n",
    "                          for k in range(vehicle_count)\n",
    "                          for j in range(customer_count)\n",
    "                          for i in range (customer_count))\n",
    "\n",
    "    # constraints\n",
    "    # 1: only one visit per vehicle per customer’s location\n",
    "    for j in range(1, customer_count):\n",
    "        problem += pulp.lpSum(x[i][j][k] if i != j else 0\n",
    "                              for i in range(customer_count)\n",
    "                              for k in range(vehicle_count)) == 1\n",
    "\n",
    "    # 2: depart from depot\n",
    "    for k in range(vehicle_count):\n",
    "        problem += pulp.lpSum(x[0][j][k] for j in range(1,customer_count)) == 1\n",
    "        problem += pulp.lpSum(x[i][0][k] for i in range(1,customer_count)) == 1\n",
    "\n",
    "    # 3: the number of vehicles coming in and out of a customer’s location is the same\n",
    "    for k in range(vehicle_count):\n",
    "        for j in range(customer_count):\n",
    "            problem += pulp.lpSum(x[i][j][k] if i != j else 0\n",
    "                                  for i in range(customer_count)) -  pulp.lpSum(x[j][i][k] for i in range(customer_count)) == 0\n",
    "\n",
    "    # 4: the delivery capacity of each vehicle should not exceed the maximum capacity\n",
    "    for k in range(vehicle_count):\n",
    "        problem += pulp.lpSum(df.demand[j] * x[i][j][k] if i != j else 0 for i in range(customer_count) for j in range (1,customer_count)) <= vehicle_capacity\n",
    "\n",
    "\n",
    "    # 5: removal of subtours\n",
    "    subtours = []\n",
    "    for i in range(2,customer_count):\n",
    "         subtours += itertools.combinations(range(1,customer_count), i)\n",
    "\n",
    "    for s in subtours:\n",
    "        problem += pulp.lpSum(x[i][j][k] if i !=j else 0 for i, j in itertools.permutations(s,2) for k in range(vehicle_count)) <= len(s) - 1\n",
    "\n",
    "\n",
    "    # print vehicle_count which needed for solving problem\n",
    "    # print calculated minimum distance value\n",
    "    if problem.solve() == 1:\n",
    "        print('Vehicle Requirements:', vehicle_count)\n",
    "        print('Moving Distance:', pulp.value(problem.objective))\n",
    "        break"
   ]
  },
  {
   "cell_type": "code",
   "execution_count": 165,
   "metadata": {},
   "outputs": [
    {
     "data": {
      "image/png": "[encoded data removed]",
      "text/plain": [
       "<Figure size 576x576 with 1 Axes>"
      ]
     },
     "metadata": {
      "needs_background": "light"
     },
     "output_type": "display_data"
    }
   ],
   "source": [
    "import matplotlib.pyplot as plt\n",
    "# visualization : plotting with matplolib\n",
    "plt.figure(figsize=(8,8))\n",
    "for i in range(customer_count):\n",
    "    if i == 0:\n",
    "        plt.scatter(df.latitude[i], df.longitude[i], c='green', s=200)\n",
    "        plt.text(df.latitude[i], df.longitude[i], \"Depot\", fontsize=12)\n",
    "    else:\n",
    "        plt.scatter(df.latitude[i], df.longitude[i], c='orange', s=200)\n",
    "        plt.text(df.latitude[i], df.longitude[i], str(df.demand[i]), fontsize=12)\n",
    "\n",
    "for k in range(vehicle_count):\n",
    "    for i in range(customer_count):\n",
    "        for j in range(customer_count):\n",
    "            if i != j and pulp.value(x[i][j][k]) == 1:\n",
    "                plt.plot([df.latitude[i], df.latitude[j]], [df.longitude[i], df.longitude[j]], c=\"black\")\n",
    "\n",
    "plt.savefig('distances.png',bbox_inches='tight')\n",
    "plt.show()"
   ]
  },
  {
   "cell_type": "code",
   "execution_count": null,
   "metadata": {},
   "outputs": [],
   "source": []
  }
 ],
 "metadata": {
  "kernelspec": {
   "display_name": "Python 3",
   "language": "python",
   "name": "python3"
  },
  "language_info": {
   "codemirror_mode": {
    "name": "ipython",
    "version": 3
   },
   "file_extension": ".py",
   "mimetype": "text/x-python",
   "name": "python",
   "nbconvert_exporter": "python",
   "pygments_lexer": "ipython3",
   "version": "3.7.7"
  }
 },
 "nbformat": 4,
 "nbformat_minor": 4
}
